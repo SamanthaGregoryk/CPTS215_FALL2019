{
 "cells": [
  {
   "cell_type": "markdown",
   "metadata": {},
   "source": [
    "Programmer: Samantha Gregoryk     \n",
    "Class: CptS 215-01, Fall 2019     \n",
    "Programming Assignment #6   \n",
    "11/24/2019   \n",
    " \n",
    "Description: Once the user has inputted their actor\n",
    " or actress of choice, the game will find the \n",
    " correlating bacon number they have. The bacon number\n",
    " is determined by how many movies they have been in\n",
    " with costars who circle back to Kevin Bacon."
   ]
  },
  {
   "cell_type": "code",
   "execution_count": 10,
   "metadata": {},
   "outputs": [],
   "source": [
    "# reading in the data files\n",
    "with open(r\"actors.txt\", \"r\", encoding=\"latin-1\") as file:\n",
    "    actors = [l.strip().split('|') for l in file]\n",
    "    \n",
    "with open(r\"movies.txt\", \"r\", encoding=\"latin-1\") as file:\n",
    "    movies = [l.strip().split('|') for l in file]\n",
    "    \n",
    "with open(r\"movie-actors.txt\", \"r\", encoding=\"latin-1\") as file:\n",
    "    movie_actors = [l.strip().split('|') for l in file]"
   ]
  },
  {
   "cell_type": "code",
   "execution_count": 11,
   "metadata": {},
   "outputs": [],
   "source": [
    "# cross-indexing IDs to names\n",
    "\n",
    "actor_dict = {d[1] : d[0] for d in actors}\n",
    "movie_dict = {d[1] : d[0] for d in movies}\n",
    "\n",
    "movie_actor_dict = {}\n",
    "\n",
    "for i in range(len(movie_actors)):\n",
    "    if movie_actors[i][0] not in movie_actor_dict.keys():\n",
    "        movie_actor_dict[movie_actors[i][0]] = []\n",
    "\n",
    "for i in range(len(movie_actors)):\n",
    "    movie_actor_dict[movie_actors[i][0]].append(movie_actors[i][1])"
   ]
  },
  {
   "cell_type": "code",
   "execution_count": null,
   "metadata": {
    "scrolled": true
   },
   "outputs": [],
   "source": [
    "# graph class and object to store the network\n",
    "%load GraphClass"
   ]
  },
  {
   "cell_type": "code",
   "execution_count": null,
   "metadata": {},
   "outputs": [],
   "source": [
    "%load BFS"
   ]
  },
  {
   "cell_type": "markdown",
   "metadata": {},
   "source": [
    "#### Implementation of Kevin Bacon Game\n",
    "\n",
    "find bacon number:     \n",
    "\n",
    "    ask for actor name     \n",
    "    get actor name from actor.txt      \n",
    "    find the correlating bacon number       \n",
    "    print bacon number      \n",
    "    \n",
    "find correlating movie: \n",
    "\n",
    "    g = Graph()       \n",
    "    g.BFS(user input, Kevin Bacon):  gives us entire list of edges from the vertice we chose to kevin bacon aka 1     \n",
    "    loop until kevin bacon is found: print out first vertice (aka user input) then the first edge and then second vertice     \n",
    "                                     print out second vertice then the second edge and then the third vertice     \n",
    "                                     print out third vertice and then the third edge and then the fourth vertice ...     \n",
    "\n",
    "more:\n",
    "\n",
    "BFS needs to prints: Vn -> En -> Vn-1 -> Vn-1 -> En-1 -> Vn-2 -> Vn-2 -> En-2 -> V1 (KB)      \n",
    "\n",
    "Vn   -> En   -> Vn-1      \n",
    "Vn-1 -> En-1 -> Vn-2      \n",
    "Vn-2 -> En-2 -> V1 (KB)            "
   ]
  },
  {
   "cell_type": "code",
   "execution_count": 12,
   "metadata": {},
   "outputs": [
    {
     "ename": "SyntaxError",
     "evalue": "invalid syntax (<ipython-input-12-875c3c55ae06>, line 21)",
     "output_type": "error",
     "traceback": [
      "\u001b[1;36m  File \u001b[1;32m\"<ipython-input-12-875c3c55ae06>\"\u001b[1;36m, line \u001b[1;32m21\u001b[0m\n\u001b[1;33m    Vn =\u001b[0m\n\u001b[1;37m         ^\u001b[0m\n\u001b[1;31mSyntaxError\u001b[0m\u001b[1;31m:\u001b[0m invalid syntax\n"
     ]
    }
   ],
   "source": [
    "# interactive interface (read names, print results)  \n",
    "# text-based path trace from actor back to Kevin Bacon \n",
    "# looping over queue to visit nodes in BFS    \n",
    "# maintaining the shortest path tree in BFS    \n",
    "\n",
    "while True:\n",
    "    print('To quit the program, type return in answer to a question.')\n",
    "    actor_input = input('Enter the name of an actor:')\n",
    "    \n",
    "    if actor_input == 'return':\n",
    "        break\n",
    "    while actor_input != '':\n",
    "        if actor_input in actor_dict:\n",
    "            number = (actor_dict[actor_input]) \n",
    "            print(\"%s's number is %s\" %(actor_input, number))\n",
    "\n",
    "        g = Graph(movie_actor_dict)\n",
    "        game = g.BFS(user_input, 'Kevin Bacon')\n",
    "        for i in game:\n",
    "            Vn = pass\n",
    "            En = pass\n",
    "            Vn_1 = pass\n",
    "\n",
    "            print('%s appeared in %s with %s' %(Vn, En, Vn_1))"
   ]
  },
  {
   "cell_type": "markdown",
   "metadata": {},
   "source": [
    "actor_vertices = all vertices from actor input up to kevin bacon        \n",
    "movie_edges = all edge movie's correlating to actor vertices"
   ]
  },
  {
   "cell_type": "code",
   "execution_count": null,
   "metadata": {},
   "outputs": [],
   "source": [
    "# visualizing the path trace from user-specified actor back to Kevin Bacon    \n",
    "\n",
    "g = nx.DiGraph()\n",
    "g.add_nodes_from(actor_vertices)\n",
    "g.add_edges_from(movie_edges)\n",
    "\n",
    "nx.draw(g)\n",
    "plt.show()"
   ]
  },
  {
   "cell_type": "code",
   "execution_count": null,
   "metadata": {},
   "outputs": [],
   "source": [
    "# computing at least two interesting statistics about the graph network \n",
    "%load Statistics"
   ]
  },
  {
   "cell_type": "code",
   "execution_count": null,
   "metadata": {},
   "outputs": [],
   "source": [
    "print('The largest finiite bacon number in the dataset is %d' %(largest_finite_bacon_number()))\n",
    "print('The average bacon number in the dataset is %s' %(avg_bacon_number()))"
   ]
  }
 ],
 "metadata": {
  "kernelspec": {
   "display_name": "Python 3",
   "language": "python",
   "name": "python3"
  },
  "language_info": {
   "codemirror_mode": {
    "name": "ipython",
    "version": 3
   },
   "file_extension": ".py",
   "mimetype": "text/x-python",
   "name": "python",
   "nbconvert_exporter": "python",
   "pygments_lexer": "ipython3",
   "version": "3.7.3"
  }
 },
 "nbformat": 4,
 "nbformat_minor": 2
}
