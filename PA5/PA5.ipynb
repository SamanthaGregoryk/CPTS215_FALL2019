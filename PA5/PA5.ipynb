{
 "cells": [
  {
   "cell_type": "markdown",
   "metadata": {},
   "source": [
    "Programmer: Samantha Gregoryk     \n",
    "Class: CptS 215-01, Fall 2019     \n",
    "Programming Assignment #5   \n",
    "11/6/2019   \n",
    " \n",
    "Description: This program is comparing the ID3 algorithm and the Decision Tree Classifier. Each algorithms implementation is executed differently but should output the same results. During the implementation of both, we are determining whether passangers on the Titanic survived or not during the shipwreck.  "
   ]
  },
  {
   "cell_type": "code",
   "execution_count": 110,
   "metadata": {},
   "outputs": [],
   "source": [
    "import numpy as np\n",
    "import pandas as pd\n",
    "import sys\n",
    "import seaborn as sns\n",
    "from sklearn.model_selection import KFold\n",
    "from sklearn import tree\n",
    "from sklearn.model_selection import train_test_split\n",
    "from sklearn.model_selection import cross_val_score\n",
    "from sklearn.metrics import confusion_matrix\n",
    "%matplotlib inline\n",
    "import matplotlib.pyplot as plt\n",
    "import networkx as nx"
   ]
  },
  {
   "cell_type": "code",
   "execution_count": 111,
   "metadata": {},
   "outputs": [
    {
     "data": {
      "text/html": [
       "<div>\n",
       "<style scoped>\n",
       "    .dataframe tbody tr th:only-of-type {\n",
       "        vertical-align: middle;\n",
       "    }\n",
       "\n",
       "    .dataframe tbody tr th {\n",
       "        vertical-align: top;\n",
       "    }\n",
       "\n",
       "    .dataframe thead th {\n",
       "        text-align: right;\n",
       "    }\n",
       "</style>\n",
       "<table border=\"1\" class=\"dataframe\">\n",
       "  <thead>\n",
       "    <tr style=\"text-align: right;\">\n",
       "      <th></th>\n",
       "      <th>class</th>\n",
       "      <th>age</th>\n",
       "      <th>sex</th>\n",
       "      <th>survived</th>\n",
       "    </tr>\n",
       "  </thead>\n",
       "  <tbody>\n",
       "    <tr>\n",
       "      <th>0</th>\n",
       "      <td>1</td>\n",
       "      <td>1</td>\n",
       "      <td>1</td>\n",
       "      <td>1</td>\n",
       "    </tr>\n",
       "    <tr>\n",
       "      <th>1</th>\n",
       "      <td>1</td>\n",
       "      <td>1</td>\n",
       "      <td>1</td>\n",
       "      <td>1</td>\n",
       "    </tr>\n",
       "    <tr>\n",
       "      <th>2</th>\n",
       "      <td>1</td>\n",
       "      <td>1</td>\n",
       "      <td>1</td>\n",
       "      <td>1</td>\n",
       "    </tr>\n",
       "    <tr>\n",
       "      <th>3</th>\n",
       "      <td>1</td>\n",
       "      <td>1</td>\n",
       "      <td>1</td>\n",
       "      <td>1</td>\n",
       "    </tr>\n",
       "    <tr>\n",
       "      <th>4</th>\n",
       "      <td>1</td>\n",
       "      <td>1</td>\n",
       "      <td>1</td>\n",
       "      <td>1</td>\n",
       "    </tr>\n",
       "  </tbody>\n",
       "</table>\n",
       "</div>"
      ],
      "text/plain": [
       "   class  age  sex  survived\n",
       "0      1    1    1         1\n",
       "1      1    1    1         1\n",
       "2      1    1    1         1\n",
       "3      1    1    1         1\n",
       "4      1    1    1         1"
      ]
     },
     "execution_count": 111,
     "metadata": {},
     "output_type": "execute_result"
    }
   ],
   "source": [
    "open_file = sys.argv[1]    # 1 is the index of first argument in command line\n",
    "df = pd.read_csv('titanic.txt', sep=\",\", header= 0)   # read in txt file using pandas\n",
    "\n",
    "X = df.drop('survived', axis = 1)\n",
    "y = df['survived']\n",
    "\n",
    "df.head()"
   ]
  },
  {
   "cell_type": "markdown",
   "metadata": {},
   "source": [
    "### Representing The Data\n",
    "\n",
    "##### Class: \n",
    "0 = crew   \n",
    "1 = first class   \n",
    "2 = second class   \n",
    "3 = third class   \n",
    "\n",
    "##### Age: \n",
    "1 = adult   \n",
    "0 = child   \n",
    "\n",
    "##### Sex: \n",
    "1 = male   \n",
    "0 = female   \n",
    "\n",
    "##### Survived: \n",
    "1 = yes   \n",
    "0 = no   "
   ]
  },
  {
   "cell_type": "markdown",
   "metadata": {},
   "source": [
    "### Recognizing The Data"
   ]
  },
  {
   "cell_type": "code",
   "execution_count": 112,
   "metadata": {
    "scrolled": true
   },
   "outputs": [
    {
     "data": {
      "text/plain": [
       "0    885\n",
       "3    706\n",
       "1    325\n",
       "2    285\n",
       "Name: class, dtype: int64"
      ]
     },
     "execution_count": 112,
     "metadata": {},
     "output_type": "execute_result"
    }
   ],
   "source": [
    "# How many people were in each class?\n",
    "df['class'].value_counts()"
   ]
  },
  {
   "cell_type": "code",
   "execution_count": 113,
   "metadata": {},
   "outputs": [
    {
     "data": {
      "text/plain": [
       "<matplotlib.axes._subplots.AxesSubplot at 0x1e62a76fcc0>"
      ]
     },
     "execution_count": 113,
     "metadata": {},
     "output_type": "execute_result"
    },
    {
     "data": {
      "image/png": "[encoded data removed]",
      "text/plain": [
       "<Figure size 432x288 with 1 Axes>"
      ]
     },
     "metadata": {
      "needs_background": "light"
     },
     "output_type": "display_data"
    }
   ],
   "source": [
    "sns.countplot(df['class'],label=\"Count\")"
   ]
  },
  {
   "cell_type": "code",
   "execution_count": 114,
   "metadata": {},
   "outputs": [
    {
     "data": {
      "text/plain": [
       "1    2092\n",
       "0     109\n",
       "Name: age, dtype: int64"
      ]
     },
     "execution_count": 114,
     "metadata": {},
     "output_type": "execute_result"
    }
   ],
   "source": [
    "# How many people were children or adults?\n",
    "df['age'].value_counts()"
   ]
  },
  {
   "cell_type": "code",
   "execution_count": 115,
   "metadata": {},
   "outputs": [
    {
     "data": {
      "text/plain": [
       "<matplotlib.axes._subplots.AxesSubplot at 0x1e62a7d0320>"
      ]
     },
     "execution_count": 115,
     "metadata": {},
     "output_type": "execute_result"
    },
    {
     "data": {
      "image/png": "[encoded data removed]",
      "text/plain": [
       "<Figure size 432x288 with 1 Axes>"
      ]
     },
     "metadata": {
      "needs_background": "light"
     },
     "output_type": "display_data"
    }
   ],
   "source": [
    "sns.countplot(df['age'],label=\"Count\")"
   ]
  },
  {
   "cell_type": "code",
   "execution_count": 116,
   "metadata": {},
   "outputs": [
    {
     "data": {
      "text/plain": [
       "1    1731\n",
       "0     470\n",
       "Name: sex, dtype: int64"
      ]
     },
     "execution_count": 116,
     "metadata": {},
     "output_type": "execute_result"
    }
   ],
   "source": [
    "# How many people were male or female?\n",
    "df['sex'].value_counts()"
   ]
  },
  {
   "cell_type": "code",
   "execution_count": 117,
   "metadata": {},
   "outputs": [
    {
     "data": {
      "text/plain": [
       "<matplotlib.axes._subplots.AxesSubplot at 0x1e62a811dd8>"
      ]
     },
     "execution_count": 117,
     "metadata": {},
     "output_type": "execute_result"
    },
    {
     "data": {
      "image/png": "[encoded data removed]",
      "text/plain": [
       "<Figure size 432x288 with 1 Axes>"
      ]
     },
     "metadata": {
      "needs_background": "light"
     },
     "output_type": "display_data"
    }
   ],
   "source": [
    "sns.countplot(df['sex'],label=\"Count\")"
   ]
  },
  {
   "cell_type": "code",
   "execution_count": 118,
   "metadata": {},
   "outputs": [
    {
     "data": {
      "text/plain": [
       "0    1490\n",
       "1     711\n",
       "Name: survived, dtype: int64"
      ]
     },
     "execution_count": 118,
     "metadata": {},
     "output_type": "execute_result"
    }
   ],
   "source": [
    "# How many people survived?\n",
    "df['survived'].value_counts()"
   ]
  },
  {
   "cell_type": "code",
   "execution_count": 119,
   "metadata": {
    "scrolled": true
   },
   "outputs": [
    {
     "data": {
      "text/plain": [
       "<matplotlib.axes._subplots.AxesSubplot at 0x1e62a84bac8>"
      ]
     },
     "execution_count": 119,
     "metadata": {},
     "output_type": "execute_result"
    },
    {
     "data": {
      "image/png": "[encoded data removed]",
      "text/plain": [
       "<Figure size 432x288 with 1 Axes>"
      ]
     },
     "metadata": {
      "needs_background": "light"
     },
     "output_type": "display_data"
    }
   ],
   "source": [
    "sns.countplot(df['survived'],label=\"Count\")"
   ]
  },
  {
   "cell_type": "markdown",
   "metadata": {},
   "source": [
    "### People Who Survived Baed On Attributes"
   ]
  },
  {
   "cell_type": "code",
   "execution_count": 120,
   "metadata": {
    "scrolled": true
   },
   "outputs": [
    {
     "data": {
      "text/html": [
       "<div>\n",
       "<style scoped>\n",
       "    .dataframe tbody tr th:only-of-type {\n",
       "        vertical-align: middle;\n",
       "    }\n",
       "\n",
       "    .dataframe tbody tr th {\n",
       "        vertical-align: top;\n",
       "    }\n",
       "\n",
       "    .dataframe thead th {\n",
       "        text-align: right;\n",
       "    }\n",
       "</style>\n",
       "<table border=\"1\" class=\"dataframe\">\n",
       "  <thead>\n",
       "    <tr style=\"text-align: right;\">\n",
       "      <th></th>\n",
       "      <th>survived</th>\n",
       "    </tr>\n",
       "    <tr>\n",
       "      <th>class</th>\n",
       "      <th></th>\n",
       "    </tr>\n",
       "  </thead>\n",
       "  <tbody>\n",
       "    <tr>\n",
       "      <th>0</th>\n",
       "      <td>0.239548</td>\n",
       "    </tr>\n",
       "    <tr>\n",
       "      <th>1</th>\n",
       "      <td>0.624615</td>\n",
       "    </tr>\n",
       "    <tr>\n",
       "      <th>2</th>\n",
       "      <td>0.414035</td>\n",
       "    </tr>\n",
       "    <tr>\n",
       "      <th>3</th>\n",
       "      <td>0.252125</td>\n",
       "    </tr>\n",
       "  </tbody>\n",
       "</table>\n",
       "</div>"
      ],
      "text/plain": [
       "       survived\n",
       "class          \n",
       "0      0.239548\n",
       "1      0.624615\n",
       "2      0.414035\n",
       "3      0.252125"
      ]
     },
     "execution_count": 120,
     "metadata": {},
     "output_type": "execute_result"
    }
   ],
   "source": [
    "# Average amount of people who survived in each class\n",
    "df.groupby('class')[['survived']].mean()"
   ]
  },
  {
   "cell_type": "code",
   "execution_count": 121,
   "metadata": {},
   "outputs": [
    {
     "data": {
      "text/html": [
       "<div>\n",
       "<style scoped>\n",
       "    .dataframe tbody tr th:only-of-type {\n",
       "        vertical-align: middle;\n",
       "    }\n",
       "\n",
       "    .dataframe tbody tr th {\n",
       "        vertical-align: top;\n",
       "    }\n",
       "\n",
       "    .dataframe thead th {\n",
       "        text-align: right;\n",
       "    }\n",
       "</style>\n",
       "<table border=\"1\" class=\"dataframe\">\n",
       "  <thead>\n",
       "    <tr style=\"text-align: right;\">\n",
       "      <th></th>\n",
       "      <th>survived</th>\n",
       "    </tr>\n",
       "    <tr>\n",
       "      <th>age</th>\n",
       "      <th></th>\n",
       "    </tr>\n",
       "  </thead>\n",
       "  <tbody>\n",
       "    <tr>\n",
       "      <th>0</th>\n",
       "      <td>0.522936</td>\n",
       "    </tr>\n",
       "    <tr>\n",
       "      <th>1</th>\n",
       "      <td>0.312620</td>\n",
       "    </tr>\n",
       "  </tbody>\n",
       "</table>\n",
       "</div>"
      ],
      "text/plain": [
       "     survived\n",
       "age          \n",
       "0    0.522936\n",
       "1    0.312620"
      ]
     },
     "execution_count": 121,
     "metadata": {},
     "output_type": "execute_result"
    }
   ],
   "source": [
    "# Average amount of people who survived as a adult or child\n",
    "df.groupby('age')[['survived']].mean()"
   ]
  },
  {
   "cell_type": "code",
   "execution_count": 122,
   "metadata": {},
   "outputs": [
    {
     "data": {
      "text/html": [
       "<div>\n",
       "<style scoped>\n",
       "    .dataframe tbody tr th:only-of-type {\n",
       "        vertical-align: middle;\n",
       "    }\n",
       "\n",
       "    .dataframe tbody tr th {\n",
       "        vertical-align: top;\n",
       "    }\n",
       "\n",
       "    .dataframe thead th {\n",
       "        text-align: right;\n",
       "    }\n",
       "</style>\n",
       "<table border=\"1\" class=\"dataframe\">\n",
       "  <thead>\n",
       "    <tr style=\"text-align: right;\">\n",
       "      <th></th>\n",
       "      <th>survived</th>\n",
       "    </tr>\n",
       "    <tr>\n",
       "      <th>sex</th>\n",
       "      <th></th>\n",
       "    </tr>\n",
       "  </thead>\n",
       "  <tbody>\n",
       "    <tr>\n",
       "      <th>0</th>\n",
       "      <td>0.731915</td>\n",
       "    </tr>\n",
       "    <tr>\n",
       "      <th>1</th>\n",
       "      <td>0.212016</td>\n",
       "    </tr>\n",
       "  </tbody>\n",
       "</table>\n",
       "</div>"
      ],
      "text/plain": [
       "     survived\n",
       "sex          \n",
       "0    0.731915\n",
       "1    0.212016"
      ]
     },
     "execution_count": 122,
     "metadata": {},
     "output_type": "execute_result"
    }
   ],
   "source": [
    "# # Average amount of people who survived as a male or female\n",
    "df.groupby('sex')[['survived']].mean()"
   ]
  },
  {
   "cell_type": "code",
   "execution_count": null,
   "metadata": {},
   "outputs": [],
   "source": [
    "# %load EvalMetrics.py\n",
    "def TPos(y_test, y_pred):\n",
    "    '''\n",
    "    Upper left of the confusion matrix. \n",
    "    The statement is true and is positive.\n",
    "    '''\n",
    "    return sum((y_test == 1) and (y_pred == 1))\n",
    "\n",
    "def TNeg(y_test, y_pred):\n",
    "    '''\n",
    "    Bottom right of the confusion matrix. \n",
    "    The statement is true and is negative.\n",
    "    '''\n",
    "    return sum((y_test == 0) and (y_pred == 0))\n",
    "\n",
    "def FPos(y_test, y_pred):\n",
    "    '''\n",
    "    Bottom left of the confusion matrix. \n",
    "    The statement is false and is positive.\n",
    "    '''\n",
    "    return sum((y_test == 0) and (y_pred == 1))\n",
    "\n",
    "def FNeg(y_test, y_pred):\n",
    "    '''\n",
    "    Upper right of the confusion matrix. \n",
    "    The statement is false and is negative.\n",
    "    '''\n",
    "    return sum((y_test == 1) and (y_pred == 0))\n",
    "\n",
    "def C_Matrix(y_test, y_pred):\n",
    "    '''\n",
    "    Assigns variables to the matrix so we can\n",
    "    calcualte evaulation metrics.\n",
    "    '''\n",
    "    TP = TPos(y_test,y_pred)\n",
    "    FN = FNeg(y_test,y_pred)\n",
    "    FP = FPos(y_test,y_pred)\n",
    "    TN = TNeg(y_test,y_pred)\n",
    "    return TP,FN,FP,TN\n",
    "\n",
    "def accuracy(y_test, y_predict):\n",
    "    '''\n",
    "    Proportion of correct classifications out of \n",
    "    all the classifications available. \n",
    "    '''\n",
    "    TP, FN, FP, TN = C_Matrix(y_test, y_predict) \n",
    "    \n",
    "    correct = TP + TN \n",
    "    incorrect = TP + TN + FP + FN\n",
    "        \n",
    "    accuracy = correct / (correct + incorrect)\n",
    "    return accuracy    \n",
    "    \n",
    "def precision(y_test, y_predict):\n",
    "    '''\n",
    "    This is the postive predictive value. It is the \n",
    "    proportion of correct postives out of all \n",
    "    classifed postivies.\n",
    "    '''\n",
    "    TP, FN, FP, TN = C_Matrix(y_test, y_predict)\n",
    "    \n",
    "    precision = TP / (TP + FP)\n",
    "    return precision\n",
    "\n",
    "def recall(y_test, y_predict):\n",
    "    '''\n",
    "    This is the true postive rate. It is the proportion\n",
    "    of correcrly classifed postives out of all postivies. \n",
    "    '''\n",
    "    TP, FN, FP, TN = C_Matrix(y_test, y_predict)\n",
    "\n",
    "    recall = TP / (TP + FN)\n",
    "    return recall\n",
    "\n",
    "def F1_score(precision, recall):\n",
    "    '''\n",
    "    Summarizes a classifier in a singlen number. \n",
    "    '''\n",
    "    F1_score = 2(precision * recall) / (precision + recall)\n",
    "    return F1_score\n",
    "\n"
   ]
  },
  {
   "cell_type": "code",
   "execution_count": null,
   "metadata": {},
   "outputs": [],
   "source": [
    "# %load ID3.py\n",
    "def compute_entropy(class_probabilities):\n",
    "    '''\n",
    "    class_probabilities is a list of class probabilities\n",
    "    '''\n",
    "    terms = [-pi * np.log2(pi) for pi in class_probabilities if pi] # ignore zero probabilities\n",
    "    H = np.sum(terms)\n",
    "    return H\n",
    "\n",
    "def compute_class_probabilities(instance_labels):\n",
    "    '''\n",
    "    instance_labels is a list of each examples' class label\n",
    "    '''\n",
    "    num_examples = len(instance_labels)\n",
    "    counts = list(Counter(instance_labels).values())\n",
    "    probabilities = np.array(counts) / num_examples\n",
    "    return probabilities\n",
    "\n",
    "def compute_subset_entropy(subset):\n",
    "    '''\n",
    "    subset is a list of instances as two-item tuples (attributes, label)\n",
    "    '''\n",
    "    labels = [label for _, label in subset]\n",
    "    probabilities = compute_class_probabilities(labels)\n",
    "    entropy = compute_entropy(probabilities)\n",
    "    return entropy\n",
    "    \n",
    "def compute_partition_entropy(subsets):\n",
    "    '''\n",
    "    subsets is a list of class label lists\n",
    "    '''\n",
    "    num_examples = np.sum([len(s) for s in subsets])\n",
    "    entropies = [(len(s) / num_examples) * compute_subset_entropy(s) for s in subsets]\n",
    "    partition_entropy = np.sum(entropies)\n",
    "    return partition_entropy\n",
    "\n",
    "def partition_by(inputs, attribute):\n",
    "    '''\n",
    "    inputs is a list of tuple pairs: (attribute_dict, label)\n",
    "    attribute is the proposed attribute to partition by\n",
    "    returns a dictionary of attribute value: input subsets pairs\n",
    "    '''\n",
    "    subsets = {}\n",
    "    for example in inputs:\n",
    "        attribute_value = example[0][attribute]\n",
    "        if attribute_value in subsets:\n",
    "            subsets[attribute_value].append(example)\n",
    "        else: # add this attribute_value to the dict\n",
    "            subsets[attribute_value] = [example]\n",
    "    return subsets\n",
    "\n",
    "def partition_entropy_by(inputs, attribute):\n",
    "    '''\n",
    "    compute the partition\n",
    "    compute the entropy of the partition\n",
    "    '''\n",
    "    subsets = partition_by(inputs, attribute)\n",
    "    entropies = compute_partition_entropy(subsets.values())\n",
    "    return entropies\n",
    "\n",
    "def find_min_entropy_partition(inputs, attributes=None):\n",
    "    '''\n",
    "    Finds the partition with the minimum about of entropy.\n",
    "    '''\n",
    "    if attributes is None:\n",
    "        attributes = list(inputs[0][0].keys())\n",
    "    partition_entropies = []\n",
    "    for attribute in attributes:\n",
    "        partition_entropy = partition_entropy_by(inputs, attribute)\n",
    "        print(attribute, partition_entropy)\n",
    "        partition_entropies.append(partition_entropy)\n",
    "    min_index = np.argmin(partition_entropies)\n",
    "    return attributes[min_index]\n",
    "\n",
    "\n",
    "\n",
    "\n",
    "\n",
    "        "
   ]
  },
  {
   "cell_type": "code",
   "execution_count": null,
   "metadata": {},
   "outputs": [],
   "source": [
    "# %load DecisionTree.py\n",
    "class Tree():\n",
    "    tree = {}\n",
    "\n",
    "    def decision_tree(self, inputs, attrb):\n",
    "        '''\n",
    "        Method that builds a tree using object oriented programming. \n",
    "        '''\n",
    "        self.tree = build_tree(inputs, attrb, split_candidates = None)\n",
    "        \n",
    "def build_tree(inputs, attrb, split_candidates = None):\n",
    "    '''\n",
    "    implements the ID3 algorithm to build a decision tree\n",
    "    '''\n",
    "    if split_candidates is None:\n",
    "        # this is the first pass\n",
    "        split_candidates = list(inputs[0][0].keys())\n",
    "        \n",
    "    num_examples = len(inputs)\n",
    "    # count Trues and Falses in the examples\n",
    "    num_trues = len([label for attributes, label in inputs if label == True])\n",
    "    num_falses = num_examples - num_trues\n",
    "    \n",
    "    # part (1) in the ID3 algorithm -> all same class label\n",
    "    if num_trues == 0: # no trues, this is a False leaf node\n",
    "        return False\n",
    "    if num_falses == 0: # no falses, this is a True leaf node\n",
    "        return True\n",
    "    \n",
    "    # part (2) in the ID3 algorithm -> list of attributes is empty -> leaf node with majority class label\n",
    "    if not split_candidates: \n",
    "        return num_trues >= num_falses\n",
    "    \n",
    "    # part (3) in ID3 algorithm -> split on best attribute\n",
    "    split_attribute = find_min_entropy_partition(inputs, split_candidates)\n",
    "    partitions = partition_by(inputs, split_attribute)\n",
    "    new_split_candidates = split_candidates[:]\n",
    "    new_split_candidates.remove(split_attribute)\n",
    "    \n",
    "    # recursively build the subtrees\n",
    "    subtrees = {}\n",
    "    for attribute_value, subset in partitions.items():\n",
    "        subtrees[attribute_value] = build_tree(subset, new_split_candidates)\n",
    "        \n",
    "    # missing (or unexpected) attribute value\n",
    "    subtrees[None] = num_trues > num_falses\n",
    "    \n",
    "    return (split_attribute, subtrees)\n"
   ]
  },
  {
   "cell_type": "code",
   "execution_count": null,
   "metadata": {},
   "outputs": [],
   "source": [
    "# %load KFold.py\n",
    "def k_fold(clf, train_index, test_index, size):\n",
    "    '''\n",
    "    Examples are divied into test and\n",
    "    train subsets and is iterated k \n",
    "    times until all the data is satisfied. \n",
    "    '''\n",
    "    k_f = KFold(2201, n_splits = size, shuffle = False)\n",
    "    outcomes = []\n",
    "    \n",
    "    for (train_index, test_index) in k_f:\n",
    "        trainX, testX = train_X.values[train_index], train_X.values[test_index]\n",
    "        trainY, testY = train_y.values[train_index], train_y.values[test_index]\n",
    "        \n",
    "        clf.fit(trainX, trainY)\n",
    "        \n",
    "        pred = clf.predict(testX)\n",
    "        accur = accuracy(testY, pred)\n",
    "        outcomes.append(accur)\n",
    "        \n",
    "    mean_outcome = np.mean(outcomes)\n",
    "    return mean_outcome    \n",
    "\n",
    "\n",
    "\n"
   ]
  },
  {
   "cell_type": "code",
   "execution_count": 194,
   "metadata": {},
   "outputs": [
    {
     "ename": "SyntaxError",
     "evalue": "invalid syntax (<ipython-input-194-38311decb379>, line 3)",
     "output_type": "error",
     "traceback": [
      "\u001b[1;36m  File \u001b[1;32m\"<ipython-input-194-38311decb379>\"\u001b[1;36m, line \u001b[1;32m3\u001b[0m\n\u001b[1;33m    train_class = pd.get_dummies(df.class).drop('class', axis = 1)\u001b[0m\n\u001b[1;37m                                        ^\u001b[0m\n\u001b[1;31mSyntaxError\u001b[0m\u001b[1;31m:\u001b[0m invalid syntax\n"
     ]
    }
   ],
   "source": [
    "# Pass a list with length equal to the number of columns and drop list to test and train data\n",
    "\n",
    "train_class = pd.get_dummies(df.class).drop('class', axis = 1)\n",
    "test_class = pd.get_dummies(df.class).drop('class', axis = 1)\n",
    "\n",
    "train_age = pd.get_dummies(df.age).drop('age', axis = 1)\n",
    "test_age = pd.get_dummies(df.age).drop('age', axis = 1)\n",
    "\n",
    "train_sex = pd.get_dummies(df.sex).drop('sex', axis = 1)\n",
    "test_sex = pd.get_dummies(df.sex).drop('sex', axis = 1)\n",
    "\n",
    "train_X = pd.concat([df['class'], train_age, train_sex], axis = 1)\n",
    "test_X = pd.concat([df['class'], train_age, train_sex], axis = 1)\n",
    "\n",
    "train_y = df['survived']"
   ]
  },
  {
   "cell_type": "code",
   "execution_count": 198,
   "metadata": {},
   "outputs": [
    {
     "ename": "AttributeError",
     "evalue": "'DecisionTree' object has no attribute 'decision_tree'",
     "output_type": "error",
     "traceback": [
      "\u001b[1;31m---------------------------------------------------------------------------\u001b[0m",
      "\u001b[1;31mAttributeError\u001b[0m                            Traceback (most recent call last)",
      "\u001b[1;32m<ipython-input-198-bdcb47057615>\u001b[0m in \u001b[0;36m<module>\u001b[1;34m\u001b[0m\n\u001b[0;32m      3\u001b[0m \u001b[0mclf\u001b[0m \u001b[1;33m=\u001b[0m \u001b[0mDecisionTree\u001b[0m\u001b[1;33m(\u001b[0m\u001b[1;33m)\u001b[0m\u001b[1;33m\u001b[0m\u001b[1;33m\u001b[0m\u001b[0m\n\u001b[0;32m      4\u001b[0m \u001b[1;33m\u001b[0m\u001b[0m\n\u001b[1;32m----> 5\u001b[1;33m \u001b[0mclf1\u001b[0m \u001b[1;33m=\u001b[0m \u001b[0mclf\u001b[0m\u001b[1;33m.\u001b[0m\u001b[0mdecision_tree\u001b[0m\u001b[1;33m(\u001b[0m\u001b[0mdf\u001b[0m\u001b[1;33m,\u001b[0m \u001b[0mtest_X\u001b[0m\u001b[1;33m)\u001b[0m\u001b[1;33m\u001b[0m\u001b[1;33m\u001b[0m\u001b[0m\n\u001b[0m\u001b[0;32m      6\u001b[0m \u001b[1;33m\u001b[0m\u001b[0m\n\u001b[0;32m      7\u001b[0m \u001b[0maccur_ID3\u001b[0m \u001b[1;33m=\u001b[0m \u001b[0mk_fold\u001b[0m\u001b[1;33m(\u001b[0m\u001b[0mclf1\u001b[0m\u001b[1;33m,\u001b[0m \u001b[0mtrain_X\u001b[0m\u001b[1;33m,\u001b[0m \u001b[0mtrain_y\u001b[0m\u001b[1;33m,\u001b[0m \u001b[1;36m20\u001b[0m\u001b[1;33m)\u001b[0m\u001b[1;33m\u001b[0m\u001b[1;33m\u001b[0m\u001b[0m\n",
      "\u001b[1;31mAttributeError\u001b[0m: 'DecisionTree' object has no attribute 'decision_tree'"
     ]
    }
   ],
   "source": [
    "# ID3 Code\n",
    "\n",
    "clf = DecisionTree()\n",
    "\n",
    "clf1 = clf.decision_tree(df, test_X)\n",
    "\n",
    "accur_ID3 = k_fold(clf1, train_X, train_y, 20)\n",
    "prec_ID3 =  k_fold(clf1, train_X, train_y, 20)\n",
    "recall_ID3 = k_fold(clf1, train_X, train_yn, 20)\n",
    "F1_ID3 = k_fold(clf1, train_X, train_y, 20)\n",
    "\n",
    "pd.DataFrame(\n",
    "    confusion_matrix(y_test, y_predict),\n",
    "    columns=['Predicted Not Survival', 'Predicted Survival'],\n",
    "    index=['True Not Survival', 'True Survival']\n",
    ")"
   ]
  },
  {
   "cell_type": "code",
   "execution_count": 199,
   "metadata": {
    "scrolled": false
   },
   "outputs": [
    {
     "name": "stdout",
     "output_type": "stream",
     "text": [
      "(2201, 3) <class 'pandas.core.frame.DataFrame'>\n",
      "(2201,) <class 'pandas.core.series.Series'>\n",
      "\n",
      "\n"
     ]
    },
    {
     "data": {
      "text/html": [
       "<div>\n",
       "<style scoped>\n",
       "    .dataframe tbody tr th:only-of-type {\n",
       "        vertical-align: middle;\n",
       "    }\n",
       "\n",
       "    .dataframe tbody tr th {\n",
       "        vertical-align: top;\n",
       "    }\n",
       "\n",
       "    .dataframe thead th {\n",
       "        text-align: right;\n",
       "    }\n",
       "</style>\n",
       "<table border=\"1\" class=\"dataframe\">\n",
       "  <thead>\n",
       "    <tr style=\"text-align: right;\">\n",
       "      <th></th>\n",
       "      <th>Predicted Not Survival</th>\n",
       "      <th>Predicted Survival</th>\n",
       "    </tr>\n",
       "  </thead>\n",
       "  <tbody>\n",
       "    <tr>\n",
       "      <th>True Not Survival</th>\n",
       "      <td>345</td>\n",
       "      <td>13</td>\n",
       "    </tr>\n",
       "    <tr>\n",
       "      <th>True Survival</th>\n",
       "      <td>121</td>\n",
       "      <td>72</td>\n",
       "    </tr>\n",
       "  </tbody>\n",
       "</table>\n",
       "</div>"
      ],
      "text/plain": [
       "                   Predicted Not Survival  Predicted Survival\n",
       "True Not Survival                     345                  13\n",
       "True Survival                         121                  72"
      ]
     },
     "execution_count": 199,
     "metadata": {},
     "output_type": "execute_result"
    }
   ],
   "source": [
    "# ID3 decision tree to sci-kit learn's implementation of a decision tree\n",
    "\n",
    "X_train, X_test, y_train, y_test = train_test_split(X, y)\n",
    "\n",
    "clf2 = tree.DecisionTreeClassifier()\n",
    "\n",
    "print(X.shape, type(X))\n",
    "print(y.shape, type(y))\n",
    "\n",
    "clf2 = clf2.fit(X_train, y_train)\n",
    "y_predict = clf2.predict(X_test)\n",
    "\n",
    "accur_DTC = cross_val_score(clf2, X_train, y_train, cv = 20, scoring = 'accuracy')\n",
    "prec_DTC = cross_val_score(clf2, X_train, y_train, cv = 20, scoring= 'precision')\n",
    "recall_DTC = cross_val_score(clf2, X_train, y_train, cv = 20, scoring = 'recall')\n",
    "F1_DTC = cross_val_score(clf2, X_train, y_train, cv = 20, scoring = 'f1')\n",
    "\n",
    "print('\\n')\n",
    "\n",
    "pd.DataFrame(\n",
    "    confusion_matrix(y_test, y_predict),\n",
    "    columns=['Predicted Not Survival', 'Predicted Survival'],\n",
    "    index=['True Not Survival', 'True Survival']\n",
    ")"
   ]
  },
  {
   "cell_type": "code",
   "execution_count": 200,
   "metadata": {},
   "outputs": [
    {
     "name": "stdout",
     "output_type": "stream",
     "text": [
      "Accuracy 0.8003629764065335\n",
      "Precision 0.95\n",
      "Recall 0.4175824175824176\n"
     ]
    },
    {
     "ename": "NameError",
     "evalue": "name 'F1_ID3' is not defined",
     "output_type": "error",
     "traceback": [
      "\u001b[1;31m---------------------------------------------------------------------------\u001b[0m",
      "\u001b[1;31mNameError\u001b[0m                                 Traceback (most recent call last)",
      "\u001b[1;32m<ipython-input-200-836421442a5b>\u001b[0m in \u001b[0;36m<module>\u001b[1;34m\u001b[0m\n\u001b[0;32m      2\u001b[0m \u001b[0mprint\u001b[0m\u001b[1;33m(\u001b[0m\u001b[1;34m'Precision'\u001b[0m\u001b[1;33m,\u001b[0m \u001b[0mprec_ID3\u001b[0m\u001b[1;33m)\u001b[0m\u001b[1;33m\u001b[0m\u001b[1;33m\u001b[0m\u001b[0m\n\u001b[0;32m      3\u001b[0m \u001b[0mprint\u001b[0m\u001b[1;33m(\u001b[0m\u001b[1;34m'Recall'\u001b[0m\u001b[1;33m,\u001b[0m\u001b[0mrecall_ID3\u001b[0m\u001b[1;33m)\u001b[0m\u001b[1;33m\u001b[0m\u001b[1;33m\u001b[0m\u001b[0m\n\u001b[1;32m----> 4\u001b[1;33m \u001b[0mprint\u001b[0m\u001b[1;33m(\u001b[0m\u001b[1;34m'F1 Score'\u001b[0m\u001b[1;33m,\u001b[0m \u001b[0mF1_ID3\u001b[0m\u001b[1;33m)\u001b[0m\u001b[1;33m\u001b[0m\u001b[1;33m\u001b[0m\u001b[0m\n\u001b[0m",
      "\u001b[1;31mNameError\u001b[0m: name 'F1_ID3' is not defined"
     ]
    }
   ],
   "source": [
    "print('Accuracy', accur_ID3)\n",
    "print('Precision', prec_ID3)\n",
    "print('Recall',recall_ID3)\n",
    "print('F1 Score', F1_ID3)"
   ]
  },
  {
   "cell_type": "code",
   "execution_count": 201,
   "metadata": {},
   "outputs": [
    {
     "ename": "ValueError",
     "evalue": "x and y must have same first dimension, but have shapes (20,) and (1,)",
     "output_type": "error",
     "traceback": [
      "\u001b[1;31m---------------------------------------------------------------------------\u001b[0m",
      "\u001b[1;31mValueError\u001b[0m                                Traceback (most recent call last)",
      "\u001b[1;32m<ipython-input-201-81c78b600b0e>\u001b[0m in \u001b[0;36m<module>\u001b[1;34m\u001b[0m\n\u001b[0;32m      3\u001b[0m \u001b[0mx1\u001b[0m \u001b[1;33m=\u001b[0m \u001b[0mrange\u001b[0m\u001b[1;33m(\u001b[0m\u001b[1;36m0\u001b[0m\u001b[1;33m,\u001b[0m\u001b[1;36m20\u001b[0m\u001b[1;33m)\u001b[0m\u001b[1;33m\u001b[0m\u001b[1;33m\u001b[0m\u001b[0m\n\u001b[0;32m      4\u001b[0m \u001b[0my1\u001b[0m \u001b[1;33m=\u001b[0m \u001b[0maccur_ID3\u001b[0m\u001b[1;33m\u001b[0m\u001b[1;33m\u001b[0m\u001b[0m\n\u001b[1;32m----> 5\u001b[1;33m \u001b[0mplt\u001b[0m\u001b[1;33m.\u001b[0m\u001b[0mplot\u001b[0m\u001b[1;33m(\u001b[0m\u001b[0mx1\u001b[0m\u001b[1;33m,\u001b[0m \u001b[0my1\u001b[0m\u001b[1;33m,\u001b[0m \u001b[0mlabel\u001b[0m \u001b[1;33m=\u001b[0m \u001b[1;34m\"Accuracy\"\u001b[0m\u001b[1;33m)\u001b[0m\u001b[1;33m\u001b[0m\u001b[1;33m\u001b[0m\u001b[0m\n\u001b[0m\u001b[0;32m      6\u001b[0m \u001b[1;33m\u001b[0m\u001b[0m\n\u001b[0;32m      7\u001b[0m \u001b[0mx2\u001b[0m \u001b[1;33m=\u001b[0m \u001b[0mrange\u001b[0m\u001b[1;33m(\u001b[0m\u001b[1;36m0\u001b[0m\u001b[1;33m,\u001b[0m \u001b[1;36m20\u001b[0m\u001b[1;33m)\u001b[0m\u001b[1;33m\u001b[0m\u001b[1;33m\u001b[0m\u001b[0m\n",
      "\u001b[1;32m~\\Anaconda3\\lib\\site-packages\\matplotlib\\pyplot.py\u001b[0m in \u001b[0;36mplot\u001b[1;34m(scalex, scaley, data, *args, **kwargs)\u001b[0m\n\u001b[0;32m   2787\u001b[0m     return gca().plot(\n\u001b[0;32m   2788\u001b[0m         *args, scalex=scalex, scaley=scaley, **({\"data\": data} if data\n\u001b[1;32m-> 2789\u001b[1;33m         is not None else {}), **kwargs)\n\u001b[0m\u001b[0;32m   2790\u001b[0m \u001b[1;33m\u001b[0m\u001b[0m\n\u001b[0;32m   2791\u001b[0m \u001b[1;33m\u001b[0m\u001b[0m\n",
      "\u001b[1;32m~\\Anaconda3\\lib\\site-packages\\matplotlib\\axes\\_axes.py\u001b[0m in \u001b[0;36mplot\u001b[1;34m(self, scalex, scaley, data, *args, **kwargs)\u001b[0m\n\u001b[0;32m   1664\u001b[0m         \"\"\"\n\u001b[0;32m   1665\u001b[0m         \u001b[0mkwargs\u001b[0m \u001b[1;33m=\u001b[0m \u001b[0mcbook\u001b[0m\u001b[1;33m.\u001b[0m\u001b[0mnormalize_kwargs\u001b[0m\u001b[1;33m(\u001b[0m\u001b[0mkwargs\u001b[0m\u001b[1;33m,\u001b[0m \u001b[0mmlines\u001b[0m\u001b[1;33m.\u001b[0m\u001b[0mLine2D\u001b[0m\u001b[1;33m.\u001b[0m\u001b[0m_alias_map\u001b[0m\u001b[1;33m)\u001b[0m\u001b[1;33m\u001b[0m\u001b[1;33m\u001b[0m\u001b[0m\n\u001b[1;32m-> 1666\u001b[1;33m         \u001b[0mlines\u001b[0m \u001b[1;33m=\u001b[0m \u001b[1;33m[\u001b[0m\u001b[1;33m*\u001b[0m\u001b[0mself\u001b[0m\u001b[1;33m.\u001b[0m\u001b[0m_get_lines\u001b[0m\u001b[1;33m(\u001b[0m\u001b[1;33m*\u001b[0m\u001b[0margs\u001b[0m\u001b[1;33m,\u001b[0m \u001b[0mdata\u001b[0m\u001b[1;33m=\u001b[0m\u001b[0mdata\u001b[0m\u001b[1;33m,\u001b[0m \u001b[1;33m**\u001b[0m\u001b[0mkwargs\u001b[0m\u001b[1;33m)\u001b[0m\u001b[1;33m]\u001b[0m\u001b[1;33m\u001b[0m\u001b[1;33m\u001b[0m\u001b[0m\n\u001b[0m\u001b[0;32m   1667\u001b[0m         \u001b[1;32mfor\u001b[0m \u001b[0mline\u001b[0m \u001b[1;32min\u001b[0m \u001b[0mlines\u001b[0m\u001b[1;33m:\u001b[0m\u001b[1;33m\u001b[0m\u001b[1;33m\u001b[0m\u001b[0m\n\u001b[0;32m   1668\u001b[0m             \u001b[0mself\u001b[0m\u001b[1;33m.\u001b[0m\u001b[0madd_line\u001b[0m\u001b[1;33m(\u001b[0m\u001b[0mline\u001b[0m\u001b[1;33m)\u001b[0m\u001b[1;33m\u001b[0m\u001b[1;33m\u001b[0m\u001b[0m\n",
      "\u001b[1;32m~\\Anaconda3\\lib\\site-packages\\matplotlib\\axes\\_base.py\u001b[0m in \u001b[0;36m__call__\u001b[1;34m(self, *args, **kwargs)\u001b[0m\n\u001b[0;32m    223\u001b[0m                 \u001b[0mthis\u001b[0m \u001b[1;33m+=\u001b[0m \u001b[0margs\u001b[0m\u001b[1;33m[\u001b[0m\u001b[1;36m0\u001b[0m\u001b[1;33m]\u001b[0m\u001b[1;33m,\u001b[0m\u001b[1;33m\u001b[0m\u001b[1;33m\u001b[0m\u001b[0m\n\u001b[0;32m    224\u001b[0m                 \u001b[0margs\u001b[0m \u001b[1;33m=\u001b[0m \u001b[0margs\u001b[0m\u001b[1;33m[\u001b[0m\u001b[1;36m1\u001b[0m\u001b[1;33m:\u001b[0m\u001b[1;33m]\u001b[0m\u001b[1;33m\u001b[0m\u001b[1;33m\u001b[0m\u001b[0m\n\u001b[1;32m--> 225\u001b[1;33m             \u001b[1;32myield\u001b[0m \u001b[1;32mfrom\u001b[0m \u001b[0mself\u001b[0m\u001b[1;33m.\u001b[0m\u001b[0m_plot_args\u001b[0m\u001b[1;33m(\u001b[0m\u001b[0mthis\u001b[0m\u001b[1;33m,\u001b[0m \u001b[0mkwargs\u001b[0m\u001b[1;33m)\u001b[0m\u001b[1;33m\u001b[0m\u001b[1;33m\u001b[0m\u001b[0m\n\u001b[0m\u001b[0;32m    226\u001b[0m \u001b[1;33m\u001b[0m\u001b[0m\n\u001b[0;32m    227\u001b[0m     \u001b[1;32mdef\u001b[0m \u001b[0mget_next_color\u001b[0m\u001b[1;33m(\u001b[0m\u001b[0mself\u001b[0m\u001b[1;33m)\u001b[0m\u001b[1;33m:\u001b[0m\u001b[1;33m\u001b[0m\u001b[1;33m\u001b[0m\u001b[0m\n",
      "\u001b[1;32m~\\Anaconda3\\lib\\site-packages\\matplotlib\\axes\\_base.py\u001b[0m in \u001b[0;36m_plot_args\u001b[1;34m(self, tup, kwargs)\u001b[0m\n\u001b[0;32m    389\u001b[0m             \u001b[0mx\u001b[0m\u001b[1;33m,\u001b[0m \u001b[0my\u001b[0m \u001b[1;33m=\u001b[0m \u001b[0mindex_of\u001b[0m\u001b[1;33m(\u001b[0m\u001b[0mtup\u001b[0m\u001b[1;33m[\u001b[0m\u001b[1;33m-\u001b[0m\u001b[1;36m1\u001b[0m\u001b[1;33m]\u001b[0m\u001b[1;33m)\u001b[0m\u001b[1;33m\u001b[0m\u001b[1;33m\u001b[0m\u001b[0m\n\u001b[0;32m    390\u001b[0m \u001b[1;33m\u001b[0m\u001b[0m\n\u001b[1;32m--> 391\u001b[1;33m         \u001b[0mx\u001b[0m\u001b[1;33m,\u001b[0m \u001b[0my\u001b[0m \u001b[1;33m=\u001b[0m \u001b[0mself\u001b[0m\u001b[1;33m.\u001b[0m\u001b[0m_xy_from_xy\u001b[0m\u001b[1;33m(\u001b[0m\u001b[0mx\u001b[0m\u001b[1;33m,\u001b[0m \u001b[0my\u001b[0m\u001b[1;33m)\u001b[0m\u001b[1;33m\u001b[0m\u001b[1;33m\u001b[0m\u001b[0m\n\u001b[0m\u001b[0;32m    392\u001b[0m \u001b[1;33m\u001b[0m\u001b[0m\n\u001b[0;32m    393\u001b[0m         \u001b[1;32mif\u001b[0m \u001b[0mself\u001b[0m\u001b[1;33m.\u001b[0m\u001b[0mcommand\u001b[0m \u001b[1;33m==\u001b[0m \u001b[1;34m'plot'\u001b[0m\u001b[1;33m:\u001b[0m\u001b[1;33m\u001b[0m\u001b[1;33m\u001b[0m\u001b[0m\n",
      "\u001b[1;32m~\\Anaconda3\\lib\\site-packages\\matplotlib\\axes\\_base.py\u001b[0m in \u001b[0;36m_xy_from_xy\u001b[1;34m(self, x, y)\u001b[0m\n\u001b[0;32m    268\u001b[0m         \u001b[1;32mif\u001b[0m \u001b[0mx\u001b[0m\u001b[1;33m.\u001b[0m\u001b[0mshape\u001b[0m\u001b[1;33m[\u001b[0m\u001b[1;36m0\u001b[0m\u001b[1;33m]\u001b[0m \u001b[1;33m!=\u001b[0m \u001b[0my\u001b[0m\u001b[1;33m.\u001b[0m\u001b[0mshape\u001b[0m\u001b[1;33m[\u001b[0m\u001b[1;36m0\u001b[0m\u001b[1;33m]\u001b[0m\u001b[1;33m:\u001b[0m\u001b[1;33m\u001b[0m\u001b[1;33m\u001b[0m\u001b[0m\n\u001b[0;32m    269\u001b[0m             raise ValueError(\"x and y must have same first dimension, but \"\n\u001b[1;32m--> 270\u001b[1;33m                              \"have shapes {} and {}\".format(x.shape, y.shape))\n\u001b[0m\u001b[0;32m    271\u001b[0m         \u001b[1;32mif\u001b[0m \u001b[0mx\u001b[0m\u001b[1;33m.\u001b[0m\u001b[0mndim\u001b[0m \u001b[1;33m>\u001b[0m \u001b[1;36m2\u001b[0m \u001b[1;32mor\u001b[0m \u001b[0my\u001b[0m\u001b[1;33m.\u001b[0m\u001b[0mndim\u001b[0m \u001b[1;33m>\u001b[0m \u001b[1;36m2\u001b[0m\u001b[1;33m:\u001b[0m\u001b[1;33m\u001b[0m\u001b[1;33m\u001b[0m\u001b[0m\n\u001b[0;32m    272\u001b[0m             raise ValueError(\"x and y can be no greater than 2-D, but have \"\n",
      "\u001b[1;31mValueError\u001b[0m: x and y must have same first dimension, but have shapes (20,) and (1,)"
     ]
    },
    {
     "data": {
      "image/png": "[encoded data removed]",
      "text/plain": [
       "<Figure size 432x288 with 1 Axes>"
      ]
     },
     "metadata": {
      "needs_background": "light"
     },
     "output_type": "display_data"
    }
   ],
   "source": [
    "#ID3\n",
    "\n",
    "x1 = range(0,20)\n",
    "y1 = accur_ID3\n",
    "plt.plot(x1, y1, label = \"Accuracy\") \n",
    "\n",
    "x2 = range(0, 20)\n",
    "y2 = prec_ID3\n",
    "plt.plot(x2, y2, label = \"Precision\") \n",
    "\n",
    "x3 = range(0, 20)\n",
    "y3 = recall_ID3\n",
    "plt.plot(x3, y3, label = \"Recall\") \n",
    "\n",
    "x4 = range(0, 20)\n",
    "y4 = F1_ID3\n",
    "plt.plot(x4, y4, label = \"F1 Score\") \n",
    "\n",
    "plt.xlabel('K') \n",
    "plt.ylabel('Evaluation Metrics') \n",
    "plt.title('ID3 Graph')\n",
    "plt.legend() \n",
    "\n",
    "plt.show() "
   ]
  },
  {
   "cell_type": "code",
   "execution_count": 202,
   "metadata": {},
   "outputs": [
    {
     "name": "stdout",
     "output_type": "stream",
     "text": [
      "Accuracy [0.79518072 0.84337349 0.80722892 0.80722892 0.75903614 0.78313253\n",
      " 0.77108434 0.74698795 0.75903614 0.86746988 0.8313253  0.80722892\n",
      " 0.76829268 0.74390244 0.75609756 0.76829268 0.7804878  0.81707317\n",
      " 0.87654321 0.81481481]\n",
      "Precision [1.         0.88235294 0.91666667 1.         0.6875     0.83333333\n",
      " 0.81818182 1.         0.71428571 0.94117647 1.         0.91666667\n",
      " 0.88888889 1.         1.         1.         0.9        0.92307692\n",
      " 0.94117647 1.        ]\n",
      "Recall [0.34615385 0.57692308 0.42307692 0.38461538 0.42307692 0.38461538\n",
      " 0.34615385 0.19230769 0.38461538 0.61538462 0.46153846 0.42307692\n",
      " 0.30769231 0.19230769 0.23076923 0.26923077 0.34615385 0.46153846\n",
      " 0.64       0.4       ]\n",
      "F1 Score [0.51428571 0.69767442 0.57894737 0.55555556 0.52380952 0.52631579\n",
      " 0.48648649 0.32258065 0.5        0.74418605 0.63157895 0.57894737\n",
      " 0.45714286 0.32258065 0.375      0.42424242 0.5        0.61538462\n",
      " 0.76190476 0.57142857]\n"
     ]
    }
   ],
   "source": [
    "print('Accuracy', accur_DTC)\n",
    "print('Precision', prec_DTC)\n",
    "print('Recall',recall_DTC)\n",
    "print('F1 Score', F1_DTC)"
   ]
  },
  {
   "cell_type": "code",
   "execution_count": 203,
   "metadata": {},
   "outputs": [
    {
     "data": {
      "image/png": "[encoded data removed]",
      "text/plain": [
       "<Figure size 432x288 with 1 Axes>"
      ]
     },
     "metadata": {
      "needs_background": "light"
     },
     "output_type": "display_data"
    }
   ],
   "source": [
    "#DTC\n",
    "\n",
    "x1 = range(0,20)\n",
    "y1 = accur_DTC\n",
    "plt.plot(x1, y1, label = \"Accuracy\") \n",
    "\n",
    "x2 = range(0, 20)\n",
    "y2 = prec_DTC\n",
    "plt.plot(x2, y2, label = \"Precision\") \n",
    "\n",
    "x3 = range(0, 20)\n",
    "y3 = recall_DTC\n",
    "plt.plot(x3, y3, label = \"Recall\") \n",
    "\n",
    "x4 = range(0, 20)\n",
    "y4 = F1_DTC\n",
    "plt.plot(x4, y4, label = \"F1 Score\") \n",
    "\n",
    "plt.xlabel('K') \n",
    "plt.ylabel('Evaluation Metrics') \n",
    "plt.title('DTC Graph')\n",
    "plt.legend() \n",
    "\n",
    "plt.show() "
   ]
  },
  {
   "cell_type": "markdown",
   "metadata": {},
   "source": [
    "#### Observing The Plots"
   ]
  },
  {
   "cell_type": "markdown",
   "metadata": {},
   "source": [
    "What do you notice?\n",
    "* The higher the evalutation metric is on the graph, the more reliable it will be for measurement purposes. \n",
    "\n",
    "How does K impact each of the evaluation metrics?\n",
    "* For accuracy, as K increases, the accuracy fluxuates up and down. There is no steady trend when determining the accuracy. \n",
    "* For precision, as K increases, the precision stays the same. \n",
    "* For recall, as K increases, there is either a big increase or decrease in the trend.  \n",
    "* For F1 score, just like recall, as K increases, there is a big increase or decrease. The difference is that this has a higher measurement than the recall. \n",
    "\n",
    "How does the different tree implementation affect the performance?\n",
    "* The ID3 implementation affects the perfomance because since it is choosing the next immediate best option, it is not looking at the overall structure of the tree. \n",
    "* The Decision Tree Classification implementation affects the perfomace because it can grow to deep and not know when to stop, or missing attributes when handling training attributes."
   ]
  }
 ],
 "metadata": {
  "kernelspec": {
   "display_name": "Python 3",
   "language": "python",
   "name": "python3"
  },
  "language_info": {
   "codemirror_mode": {
    "name": "ipython",
    "version": 3
   },
   "file_extension": ".py",
   "mimetype": "text/x-python",
   "name": "python",
   "nbconvert_exporter": "python",
   "pygments_lexer": "ipython3",
   "version": "3.7.3"
  }
 },
 "nbformat": 4,
 "nbformat_minor": 2
}
