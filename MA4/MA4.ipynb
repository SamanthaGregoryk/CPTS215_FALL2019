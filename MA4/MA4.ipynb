{
 "cells": [
  {
   "cell_type": "markdown",
   "metadata": {},
   "source": [
    "# [CptS 215 Data Analytics Systems and Algorithms](https://piazza.com/wsu/fall2017/cpts215/home)\n",
    "[Washington State University](https://wsu.edu)\n",
    "\n",
    "[Gina Sprint](http://eecs.wsu.edu/~gsprint/)\n",
    "## MA4 Queue Analysis (50 pts)\n",
    "<mark>Due:</mark>\n",
    "\n",
    "### Learner Objectives\n",
    "At the conclusion of this micro assignment, participants should be able to:\n",
    "* Analyze stack and queue data structures for efficiency\n",
    "* Implement a queue using two stacks\n",
    "* Compare/contrast different implementations of a queue ADT\n",
    "\n",
    "### Prerequisites\n",
    "Before starting this micro assignment, participants should be able to:\n",
    "* Write object oriented Python code\n",
    "* Write Markdown and code cells in Jupyter Notebook\n",
    "* Understand the stack ADT and implement a stack\n",
    "* Understand the queue ADT and implement a queue\n",
    "\n",
    "### Acknowledgments\n",
    "Content used in this assignment is based upon information in the following sources:\n",
    "* Carl Kingsford's [Basic Data Structures](https://www.engage-csedu.org/find-resources/problem-set-1-basic-data-structures) problem set."
   ]
  },
  {
   "cell_type": "markdown",
   "metadata": {},
   "source": [
    "## Overview and Requirements\n",
    "For this micro assignment, you are going to download this Jupyter Notebook and answer the following questions. Your answer for a problem should be in a cell *immediately* after the problem cell. *Do not modify the problem cell.*\n",
    "\n",
    "We are going to explore the efficiency of two different queue implementations. This micro assignment includes conceptional questions and programming."
   ]
  },
  {
   "cell_type": "markdown",
   "metadata": {},
   "source": [
    "### Conceptual Questions\n",
    "Suppose you are given a (strange) computer that can only perform the following instructions (in addition to if and while):\n",
    "* `S = create_stack()` create stack makes a new stack `S`\n",
    "* `i = S.pop()` removes the top item from stack `S` and places it in variable `i`\n",
    "* `S.push(i)` makes item `i` the top item in stack `S`\n",
    "\n",
    "Solve the following problems and *justify* your answers:\n",
    "1. (10 pts) Show how you can use these operations to implement a queue (operations `Q = create_queue()`, `enqueue(i)`, `i = dequeue()`)\n",
    "    * A picture might help to explain your answer\n",
    "    * Hint: take a look at the following image:\n",
    "<img src=\"http://www.algoqueue.com/algoqueue/members/get_uploaded_image.load/149\" width=\"500\">\n",
    "(image from [http://www.algoqueue.com/algoqueue/members/get_uploaded_image.load/149](http://www.algoqueue.com/algoqueue/members/get_uploaded_image.load/149))"
   ]
  },
  {
   "cell_type": "markdown",
   "metadata": {},
   "source": [
    "#### Conceptual Questions Answer 1"
   ]
  },
  {
   "cell_type": "code",
   "execution_count": 142,
   "metadata": {
    "scrolled": true
   },
   "outputs": [
    {
     "name": "stdout",
     "output_type": "stream",
     "text": [
      "Enqueued: 1000\n",
      "Enqueued: 5443\n",
      "Enqueued: 3401\n",
      "Enqueued: 6785\n",
      "Enqueued: 1145\n",
      "\n",
      "\n",
      "Dequeued:  1000\n",
      "Dequeued:  5443\n",
      "Dequeued:  3401\n",
      "Dequeued:  6785\n",
      "Dequeued:  1145\n"
     ]
    }
   ],
   "source": [
    "class Queue():\n",
    "    '''\n",
    "    '''\n",
    "    def __init__(self):\n",
    "        '''\n",
    "        Creates two stacks to to push \n",
    "        and pop elements ususing enqueue \n",
    "        and dequeue.\n",
    "        '''\n",
    "        self.s1 = self.create_stack()\n",
    "        self.s2 = self.create_stack()\n",
    "        \n",
    "    def create_stack(self):\n",
    "        '''\n",
    "        Creates an array that is used \n",
    "        for each stack.\n",
    "        '''\n",
    "        return []\n",
    "        \n",
    "    # Will execite enqueue(i) (method taking in data type)  \n",
    "    def enqueue(self, i):\n",
    "        '''\n",
    "        Takes in a data type and appends\n",
    "        the stack ased on which element \n",
    "        is inserted first.\n",
    "        '''\n",
    "        print('Enqueued: %d' %(i))\n",
    "        self.s1.append(i)\n",
    "        \n",
    "    # Will execute i = dequeue() (assigning enqueue to remove element)\n",
    "    def dequeue(self):\n",
    "        '''\n",
    "        Removes the data type that was \n",
    "        inserted by enqueue in the stack \n",
    "        based on the elements that were \n",
    "        inserted first.\n",
    "        '''   \n",
    "        while (self.s1):\n",
    "            self.s2.append(self.s1.pop())\n",
    "        return self.s2.pop()\n",
    "    \n",
    "    \n",
    "# will execute Q (object) = create_queue() (function)\n",
    "def create_queue():\n",
    "    '''\n",
    "    Function that returns the \n",
    "    class type.\n",
    "    '''\n",
    "    return Queue()\n",
    "\n",
    "# Create object from function that returned the class\n",
    "Q = create_queue()\n",
    "\n",
    "# Enqueue elements to data structure \n",
    "Q.enqueue(1000)\n",
    "Q.enqueue(5443)\n",
    "Q.enqueue(3401)\n",
    "Q.enqueue(6785)\n",
    "Q.enqueue(1145)\n",
    "\n",
    "print('\\n')\n",
    "\n",
    "# Denqueue elements from data structure\n",
    "print(\"Dequeued: \", Q.dequeue())\n",
    "print(\"Dequeued: \", Q.dequeue())\n",
    "print(\"Dequeued: \", Q.dequeue())\n",
    "print(\"Dequeued: \", Q.dequeue())\n",
    "print(\"Dequeued: \", Q.dequeue())\n"
   ]
  },
  {
   "cell_type": "markdown",
   "metadata": {},
   "source": [
    "2. (5 pts) What's the worst case running time of your dequeue implementation?"
   ]
  },
  {
   "cell_type": "markdown",
   "metadata": {},
   "source": [
    "#### Conceptual Questions Answer 2"
   ]
  },
  {
   "cell_type": "markdown",
   "metadata": {},
   "source": [
    "The worst case running time of my dequeue implementation will be when the first stack I created appends n elements using the enqueue method from the Queue class and I want to use the dequeue method from the Queue class to be assigned. I have to push elements from the first stack to the second stack I created and use pop() on the first element. The running time of this case would take O(n) time because I am searching through elements and deleting elements as well. "
   ]
  },
  {
   "cell_type": "markdown",
   "metadata": {},
   "source": [
    "3. (5 pts) Over a series of `n` enqueues followed by `n` dequeues, how many `pop()` operations does your implementation perform?"
   ]
  },
  {
   "cell_type": "markdown",
   "metadata": {},
   "source": [
    "#### Conceptual Questions Answer 3"
   ]
  },
  {
   "cell_type": "markdown",
   "metadata": {},
   "source": [
    "n enqueues followed by n dequeues will use x amount of pop() operations. x is represented by the number of elements in the first stack when the dequeue is being executed. The total pop() operations is equal to x plus n if enqueues requires no pop() operations. "
   ]
  },
  {
   "cell_type": "markdown",
   "metadata": {
    "collapsed": true
   },
   "source": [
    "### Implementation Questions\n",
    "Write a program that implements a queue using a standard list implementation (see [M&R 3.12](http://interactivepython.org/runestone/static/pythonds/BasicDS/ImplementingaQueueinPython.html)) and a queue using your solution to conceptual question #1. For the latter, you must implement a stack using a standard list implementation (see [M&R 3.5](http://interactivepython.org/runestone/static/pythonds/BasicDS/ImplementingaStackinPython.html)).\n",
    "\n",
    "Generate a sequence of `enqueue`s and `dequeue`s to test your two queue implementations. To generate the test sequence, randomly `enqueue` and `dequeue` strings from [words.txt](https://raw.githubusercontent.com/gsprint23/cpts215/master/microassignments/files/words.txt), a file containing all 118,309 valid crossword puzzle words, one on each line. Evaluate the differences between the two implementations by performing the following:"
   ]
  },
  {
   "cell_type": "code",
   "execution_count": 192,
   "metadata": {
    "scrolled": true
   },
   "outputs": [
    {
     "data": {
      "text/plain": [
       "5552"
      ]
     },
     "execution_count": 192,
     "metadata": {},
     "output_type": "execute_result"
    }
   ],
   "source": [
    "# Standard list implementation\n",
    "import timeit\n",
    "\n",
    "class Queue:\n",
    "    def __init__(self):\n",
    "        self.items = []\n",
    "\n",
    "    def isEmpty(self):\n",
    "        return self.items == []\n",
    "\n",
    "    def enqueue(self, item):\n",
    "        self.items.insert(0,item)\n",
    "\n",
    "    def dequeue(self):\n",
    "        return self.items.pop()\n",
    "\n",
    "    def size(self):\n",
    "        return len(self.items)\n",
    "    \n",
    "#randomly enqueue and dequeue strigns from words.txt\n",
    "file = open('words.txt', 'r')\n",
    "words = [line.strip() for line in file.readlines()]\n",
    "random.shuffle(words)\n",
    "\n",
    "Q = Queue()\n",
    "\n",
    "Q.enqueue(random.randrange(0,118309))\n",
    "Q.enqueue(random.randrange(0,118309))\n",
    "Q.enqueue(random.randrange(0,118309))\n",
    "Q.enqueue(random.randrange(0,118309))\n",
    "Q.enqueue(random.randrange(0,118309))\n",
    "\n",
    "Q.dequeue()\n",
    "Q.dequeue()\n",
    "Q.dequeue()\n",
    "Q.dequeue()\n",
    "Q.dequeue()"
   ]
  },
  {
   "cell_type": "code",
   "execution_count": 178,
   "metadata": {},
   "outputs": [
    {
     "data": {
      "text/plain": [
       "29007"
      ]
     },
     "execution_count": 178,
     "metadata": {},
     "output_type": "execute_result"
    }
   ],
   "source": [
    "# Solution to conceptual question #1\n",
    "class Queue():\n",
    "    '''\n",
    "    '''\n",
    "    def __init__(self):\n",
    "        '''\n",
    "        Creates two stacks to to push \n",
    "        and pop elements ususing enqueue \n",
    "        and dequeue.\n",
    "        '''\n",
    "        self.s1 = self.create_stack()\n",
    "        self.s2 = self.create_stack()\n",
    "        \n",
    "    def create_stack(self):\n",
    "        '''\n",
    "        Creates an array that is used \n",
    "        for each stack.\n",
    "        '''\n",
    "        return []\n",
    "        \n",
    "    # Will execite enqueue(i) (method taking in data type)  \n",
    "    def enqueue(self, i):\n",
    "        '''\n",
    "        Takes in a data type and appends\n",
    "        the stack ased on which element \n",
    "        is inserted first.\n",
    "        '''\n",
    "        self.s1.append(i)\n",
    "        \n",
    "    # Will execute i = dequeue() (assigning enqueue to remove element)\n",
    "    def dequeue(self):\n",
    "        '''\n",
    "        Removes the data type that was \n",
    "        inserted by enqueue in the stack \n",
    "        based on the elements that were \n",
    "        inserted first.\n",
    "        '''   \n",
    "        while (self.s1):\n",
    "            self.s2.append(self.s1.pop())\n",
    "        return self.s2.pop() \n",
    "    \n",
    "# will execute Q (object) = create_queue() (function)\n",
    "def create_queue():\n",
    "    '''\n",
    "    Function that returns the \n",
    "    class type.\n",
    "    '''\n",
    "    return Queue()\n",
    "\n",
    "#randomly enqueue and dequeue strigns from words.txt\n",
    "file = open('words.txt', 'r')\n",
    "words = [line.strip() for line in file.readlines()]\n",
    "random.shuffle(words)\n",
    "\n",
    "Q = Queue()\n",
    "\n",
    "Q.enqueue(random.randrange(0,118309))\n",
    "Q.enqueue(random.randrange(0,118309))\n",
    "Q.enqueue(random.randrange(0,118309))\n",
    "Q.enqueue(random.randrange(0,118309))\n",
    "Q.enqueue(random.randrange(0,118309))\n",
    "\n",
    "Q.dequeue()\n",
    "Q.dequeue()\n",
    "Q.dequeue()\n",
    "Q.dequeue()\n",
    "Q.dequeue()"
   ]
  },
  {
   "cell_type": "markdown",
   "metadata": {},
   "source": [
    "#### Implementation Answer 1"
   ]
  },
  {
   "cell_type": "markdown",
   "metadata": {},
   "source": [
    "1. Using [`timeit()`](https://docs.python.org/3/library/timeit.html), compare the running time for each queue implementation operating on your test sequence. Vary the size of your test sequence.\n",
    "    * Note: Make sure you are using the same test sequence for each implementation! Also, remove all frivolous code from your implementations (e.g. `print()` statements), as these can affect the timing!"
   ]
  },
  {
   "cell_type": "code",
   "execution_count": 211,
   "metadata": {},
   "outputs": [
    {
     "name": "stdout",
     "output_type": "stream",
     "text": [
      "Standard List Implementation Queue\n",
      "_init_:   0.001559700001962483\n",
      "isEmpty:  0.0015369000029750168\n",
      "Enqueue:  0.0015059999859659001\n",
      "Dequeue:  0.0015567000082228333\n",
      "Size:     0.0015934999973978847\n"
     ]
    }
   ],
   "source": [
    "# Standard list implementation Queue\n",
    "print('Standard List Implementation Queue')\n",
    "print('_init_:  ', timeit.timeit('''def __init__(self):\n",
    "        self.items = []''', number = 5000))\n",
    "print('isEmpty: ', timeit.timeit('''def isEmpty(self):\n",
    "        return self.items == []''', number = 5000))\n",
    "print('Enqueue: ', timeit.timeit('''def enqueue(self, item):\n",
    "        self.items.insert(0,item)''', number = 5000))\n",
    "print('Dequeue: ', timeit.timeit('''def dequeue(self):\n",
    "        return self.items.pop()''', number = 5000))\n",
    "print('Size:    ', timeit.timeit('''def size(self):\n",
    "        return len(self.items)''', number = 5000))"
   ]
  },
  {
   "cell_type": "code",
   "execution_count": 213,
   "metadata": {},
   "outputs": [
    {
     "name": "stdout",
     "output_type": "stream",
     "text": [
      "Solution to Conceptual Question #1 Queue\n",
      "_init_:        0.0001007999962894246\n",
      "Create Stack:  9.940000018104911e-05\n",
      "Enqueue:       9.899999713525176e-05\n",
      "Dequeue:       0.00010180000390391797\n",
      "Create Queue:  0.0002717000024858862\n"
     ]
    }
   ],
   "source": [
    "# Solution to conceptual question #1 Queue\n",
    "print('Solution to Conceptual Question #1 Queue')\n",
    "print('_init_:       ', timeit.timeit('''def __init__(self):\n",
    "    self.s1 = self.create_stack()\n",
    "    self.s2 = self.create_stack()''', number = 1000))\n",
    "print('Create Stack: ', timeit.timeit('''def create_stack(self):\n",
    "    return []''', number = 1000))\n",
    "print('Enqueue:      ', timeit.timeit('''def enqueue(self, i):\n",
    "    self.s1.append(i)''', number = 1000))\n",
    "print('Dequeue:      ', timeit.timeit('''def dequeue(self):\n",
    "    while (self.s1):\n",
    "        self.s2.append(self.s1.pop())\n",
    "    return self.s2.pop()''', number = 1000))\n",
    "print('Create Queue: ', timeit.timeit('''def create_queue():\n",
    "    return Queue()''', number = 1000))"
   ]
  },
  {
   "cell_type": "markdown",
   "metadata": {},
   "source": [
    "2. Write code to test your answer to conceptual question #2. Write up your observations."
   ]
  },
  {
   "cell_type": "markdown",
   "metadata": {},
   "source": [
    "#### Implementation Answer 2"
   ]
  },
  {
   "cell_type": "markdown",
   "metadata": {},
   "source": [
    "What's the worst case running time of your dequeue implementation?\n",
    "\n",
    "The worst case running time of my dequeue implementation will be when the first stack I created appends n elements using the enqueue method from the Queue class and I want to use the dequeue method from the Queue class to be assigned. I have to push elements from the first stack to the second stack I created and use pop() on the first element. The running time of this case would take O(n) time because I am searching through elements and deleting elements as well.  "
   ]
  },
  {
   "cell_type": "code",
   "execution_count": 227,
   "metadata": {},
   "outputs": [
    {
     "data": {
      "text/plain": [
       "<__main__.Queue at 0x2afec8475f8>"
      ]
     },
     "execution_count": 227,
     "metadata": {},
     "output_type": "execute_result"
    }
   ],
   "source": [
    "# Standard list implementation\n",
    "class Stack():\n",
    "    def __init__(self):\n",
    "         self.items = []\n",
    "\n",
    "    def isEmpty(self):\n",
    "         return self.items == []\n",
    "\n",
    "    def push(self, item):\n",
    "         self.items.append(item)\n",
    "\n",
    "    def pop(self):\n",
    "         return self.items.pop()\n",
    "\n",
    "    def peek(self):\n",
    "         return self.items[len(self.items)-1]\n",
    "\n",
    "    def size(self):\n",
    "         return len(self.items)\n",
    "        \n",
    "class Queue():\n",
    "    '''\n",
    "    '''\n",
    "    def __init__(self):\n",
    "        '''\n",
    "        Creates two stacks to to push \n",
    "        and pop elements ususing enqueue \n",
    "        and dequeue.\n",
    "        '''\n",
    "        self.s1 = self.create_stack()\n",
    "        self.s2 = self.create_stack()\n",
    "        \n",
    "    def create_stack(self):\n",
    "        '''\n",
    "        Creates an array that is used \n",
    "        for each stack.\n",
    "        '''\n",
    "        return []\n",
    "        \n",
    "    # Will execite enqueue(i) (method taking in data type)  \n",
    "    def enqueue(self, i):\n",
    "        '''\n",
    "        Takes in a data type and appends\n",
    "        the stack ased on which element \n",
    "        is inserted first.\n",
    "        '''\n",
    "        self.s1.append(i)\n",
    "        \n",
    "    # Will execute i = dequeue() (assigning enqueue to remove element)\n",
    "    def dequeue(self):\n",
    "        '''\n",
    "        Removes the data type that was \n",
    "        inserted by enqueue in the stack \n",
    "        based on the elements that were \n",
    "        inserted first.\n",
    "        '''   \n",
    "        while (self.s1):\n",
    "            self.s2.append(self.s1.pop())\n",
    "        return self.s2.pop() \n",
    "    \n",
    "# will execute Q (object) = create_queue() (function)\n",
    "def create_queue():\n",
    "    '''\n",
    "    Function that returns the \n",
    "    class type.\n",
    "    '''\n",
    "    return Queue()\n",
    "\n",
    "S = Stack()\n",
    "Q = create_queue()\n",
    "\n",
    "Q.enqueue(10)\n",
    "Q.enqueue(43)\n",
    "Q.enqueue(31)\n",
    "Q.enqueue(67)\n",
    "Q.enqueue(45)\n",
    "\n",
    "S.push(Q)\n",
    "S.pop()"
   ]
  },
  {
   "cell_type": "markdown",
   "metadata": {},
   "source": [
    "3. Write code to test your answer to conceptual question #3. Write up your observations."
   ]
  },
  {
   "cell_type": "markdown",
   "metadata": {},
   "source": [
    "#### Implementation Answer 3"
   ]
  },
  {
   "cell_type": "markdown",
   "metadata": {},
   "source": [
    "Over a series of `n` enqueues followed by `n` dequeues, how many `pop()` operations does your implementation perform?\n",
    "\n",
    "n enqueues followed by n dequeues will use x amount of pop() operations. x is represented by the number of elements in the first stack when the dequeue is being executed. The total pop() operations is equal to x plus n if enqueues requires no pop() operations. "
   ]
  },
  {
   "cell_type": "code",
   "execution_count": null,
   "metadata": {},
   "outputs": [],
   "source": [
    "# Standard list implementation\n",
    "class Stack():\n",
    "    def __init__(self):\n",
    "         self.items = []\n",
    "\n",
    "    def isEmpty(self):\n",
    "         return self.items == []\n",
    "\n",
    "    def push(self, item):\n",
    "         self.items.append(item)\n",
    "\n",
    "    def pop(self):\n",
    "         return self.items.pop()\n",
    "\n",
    "    def peek(self):\n",
    "         return self.items[len(self.items)-1]\n",
    "\n",
    "    def size(self):\n",
    "         return len(self.items)\n",
    "        \n",
    "class Queue():\n",
    "    '''\n",
    "    '''\n",
    "    def __init__(self):\n",
    "        '''\n",
    "        Creates two stacks to to push \n",
    "        and pop elements ususing enqueue \n",
    "        and dequeue.\n",
    "        '''\n",
    "        self.s1 = self.create_stack()\n",
    "        self.s2 = self.create_stack()\n",
    "        \n",
    "    def create_stack(self):\n",
    "        '''\n",
    "        Creates an array that is used \n",
    "        for each stack.\n",
    "        '''\n",
    "        return []\n",
    "        \n",
    "    # Will execite enqueue(i) (method taking in data type)  \n",
    "    def enqueue(self, i):\n",
    "        '''\n",
    "        Takes in a data type and appends\n",
    "        the stack ased on which element \n",
    "        is inserted first.\n",
    "        '''\n",
    "        self.s1.append(i)\n",
    "        \n",
    "    # Will execute i = dequeue() (assigning enqueue to remove element)\n",
    "    def dequeue(self):\n",
    "        '''\n",
    "        Removes the data type that was \n",
    "        inserted by enqueue in the stack \n",
    "        based on the elements that were \n",
    "        inserted first.\n",
    "        '''   \n",
    "        while (self.s1):\n",
    "            self.s2.append(self.s1.pop())\n",
    "        return self.s2.pop() \n",
    "    \n",
    "# will execute Q (object) = create_queue() (function)\n",
    "def create_queue():\n",
    "    '''\n",
    "    Function that returns the \n",
    "    class type.\n",
    "    '''\n",
    "    return Queue()\n",
    "\n",
    "S = Stack()\n",
    "Q = create_queue()\n",
    "\n",
    "Q.enqueue(10)\n",
    "Q.enqueue(43)\n",
    "Q.enqueue(31)\n",
    "Q.enqueue(67)\n",
    "Q.enqueue(45)\n",
    "\n",
    "Q.dequeue()\n",
    "Q.dequeue()\n",
    "Q.dequeue()\n",
    "Q.dequeue()\n",
    "Q.dequeue()"
   ]
  },
  {
   "cell_type": "markdown",
   "metadata": {},
   "source": [
    "## Bonus (5 pts)\n",
    "Perform additional analysis and comparisons of your two queue implementations above to the following:\n",
    "1. Linked lists implementations of the stacks and queue (you must write the implementation yourself)\n",
    "1. Python's `deque` container from `collections`\n",
    "\n",
    "Include `timeit()` results and a write up of your observations."
   ]
  },
  {
   "cell_type": "markdown",
   "metadata": {},
   "source": [
    "## Submitting Assignments\n",
    "1.\tUse the Blackboard tool https://learn.wsu.edu to submit your assignment. You will submit your code to the corresponding programming assignment under the \"Content\" tab. You must upload your solutions as `<your last name>_ma4.zip` by the due date and time.\n",
    "2.\tYour .zip file should contain your .ipynb file and a .html file representing your Notebook as a webpage (File->Download as->HTML). Also include [words.txt](https://raw.githubusercontent.com/gsprint23/cpts215/master/microassignments/files/words.txt) in your .zip file."
   ]
  },
  {
   "cell_type": "markdown",
   "metadata": {},
   "source": [
    "## Grading Guidelines\n",
    "This assignment is worth 50 points + 5 points bonus. Your assignment will be evaluated based on a successful compilation and adherence to the program requirements. We will grade according to the following criteria:\n",
    "* 20 pts for answering the conception questions\n",
    "* 5 pts for correct implementation of the list-based queue\n",
    "* 10 pts for correct implementation of the stack-based queue\n",
    "* 5 pts for `timeit()` results\n",
    "* 5 pts for observation write ups\n",
    "* 5 pts for for adherence to proper programming style and comments established for the class"
   ]
  }
 ],
 "metadata": {
  "anaconda-cloud": {},
  "kernelspec": {
   "display_name": "Python 3",
   "language": "python",
   "name": "python3"
  },
  "language_info": {
   "codemirror_mode": {
    "name": "ipython",
    "version": 3
   },
   "file_extension": ".py",
   "mimetype": "text/x-python",
   "name": "python",
   "nbconvert_exporter": "python",
   "pygments_lexer": "ipython3",
   "version": "3.7.3"
  }
 },
 "nbformat": 4,
 "nbformat_minor": 1
}
